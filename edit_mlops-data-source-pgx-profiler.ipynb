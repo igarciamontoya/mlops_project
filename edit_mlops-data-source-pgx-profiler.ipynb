{
 "cells": [
  {
   "cell_type": "markdown",
   "id": "0bf6c2b0",
   "metadata": {},
   "source": [
    "# Edit Your Expectation Suite\n",
    "Use this notebook to recreate and modify your expectation suite:\n",
    "\n",
    "**Expectation Suite Name**: `project-gx-profile`"
   ]
  },
  {
   "cell_type": "code",
   "execution_count": 1,
   "id": "6c8ac9e2",
   "metadata": {},
   "outputs": [
    {
     "name": "stdout",
     "output_type": "stream",
     "text": [
      "2024-10-10T04:37:55-0700 - INFO - Great Expectations logging enabled at 20 level by JupyterUX module.\n",
      "2024-10-10T04:37:55-0700 - INFO - FileDataContext loading fluent config\n",
      "2024-10-10T04:37:55-0700 - INFO - Loading 'datasources' ->\n",
      "[]\n",
      "Loaded ExpectationSuite \"project-gx-profile\" containing 0 expectations.\n"
     ]
    }
   ],
   "source": [
    "import datetime\n",
    "\n",
    "import pandas as pd\n",
    "\n",
    "import great_expectations as gx\n",
    "import great_expectations.jupyter_ux\n",
    "from great_expectations.core.expectation_configuration import ExpectationConfiguration\n",
    "from great_expectations.data_context.types.resource_identifiers import ExpectationSuiteIdentifier\n",
    "from great_expectations.exceptions import DataContextError\n",
    "\n",
    "context = gx.get_context()\n",
    "\n",
    "\n",
    "# Feel free to change the name of your suite here. Renaming this will not remove the other one.\n",
    "expectation_suite_name = \"project-gx-profile\"\n",
    "try:\n",
    "    suite = context.get_expectation_suite(expectation_suite_name=expectation_suite_name)\n",
    "    print(f'Loaded ExpectationSuite \"{suite.expectation_suite_name}\" containing {len(suite.expectations)} expectations.')\n",
    "except DataContextError:\n",
    "    suite = context.add_expectation_suite(expectation_suite_name=expectation_suite_name)\n",
    "    print(f'Created ExpectationSuite \"{suite.expectation_suite_name}\".')"
   ]
  },
  {
   "cell_type": "markdown",
   "id": "783074eb",
   "metadata": {},
   "source": [
    "## Create & Edit Expectations\n",
    "\n",
    "\n",
    "You are adding Expectation configurations to the suite. Since you selected manual mode, there is no sample batch of data and no validation happens during this process. See our documentation for more info and examples: **[How to create a new Expectation Suite without a sample batch](https://docs.greatexpectations.io/docs/guides/expectations/how_to_create_and_edit_expectations_based_on_domain_knowledge_without_inspecting_data_directly)**.\n",
    "\n",
    "Note that if you do use interactive mode you may specify a sample batch of data to use when creating your Expectation Suite. You can then use a `validator` to get immediate feedback on your Expectations against your specified sample batch.\n",
    "\n",
    "\n",
    "You can see all the available expectations in the **[expectation gallery](https://greatexpectations.io/expectations)**."
   ]
  },
  {
   "cell_type": "markdown",
   "id": "e23bef02",
   "metadata": {},
   "source": [
    "### Table Expectation(s)"
   ]
  },
  {
   "cell_type": "code",
   "execution_count": 2,
   "id": "1f466ad7",
   "metadata": {},
   "outputs": [
    {
     "data": {
      "text/plain": [
       "{\"expectation_type\": \"expect_table_row_count_to_be_between\", \"kwargs\": {\"max_value\": 9125, \"min_value\": 3650}, \"meta\": {\"profiler_details\": {\"metric_configuration\": {\"domain_kwargs\": {}, \"metric_name\": \"table.row_count\", \"metric_value_kwargs\": null}, \"num_batches\": 1}}}"
      ]
     },
     "execution_count": 2,
     "metadata": {},
     "output_type": "execute_result"
    }
   ],
   "source": [
    "\n",
    "expectation_configuration = ExpectationConfiguration(**{\n",
    "  \"expectation_type\": \"expect_table_row_count_to_be_between\",\n",
    "  \"kwargs\": {\n",
    "    \"max_value\": 9125,\n",
    "    \"min_value\": 3650\n",
    "  },\n",
    "  \"meta\": {\n",
    "    \"profiler_details\": {\n",
    "      \"metric_configuration\": {\n",
    "        \"domain_kwargs\": {},\n",
    "        \"metric_name\": \"table.row_count\",\n",
    "        \"metric_value_kwargs\": None\n",
    "      },\n",
    "      \"num_batches\": 1\n",
    "    }\n",
    "  }\n",
    "})\n",
    "suite.add_expectation(expectation_configuration=expectation_configuration)"
   ]
  },
  {
   "cell_type": "code",
   "execution_count": 3,
   "id": "e99ce8a6",
   "metadata": {},
   "outputs": [
    {
     "data": {
      "text/plain": [
       "{\"expectation_type\": \"expect_table_columns_to_match_set\", \"kwargs\": {\"column_set\": [\"presMax\", \"sol\", \"velmedia\", \"hrMin\", \"fecha\", \"hrMedia\", \"prec\", \"tmax\", \"tmin\", \"indicativo\", \"tmed\", \"presMin\", \"nombre\", \"hrMax\", \"provincia\"], \"exact_match\": false}, \"meta\": {\"profiler_details\": {\"success_ratio\": 1.0}}}"
      ]
     },
     "execution_count": 3,
     "metadata": {},
     "output_type": "execute_result"
    }
   ],
   "source": [
    "\n",
    "expectation_configuration = ExpectationConfiguration(**{\n",
    "  \"expectation_type\": \"expect_table_columns_to_match_set\",\n",
    "  \"kwargs\": {\n",
    "    \"column_set\": [\n",
    "      \"presMax\",\n",
    "      \"sol\",\n",
    "      \"velmedia\",\n",
    "      \"hrMin\",\n",
    "      \"fecha\",\n",
    "      \"hrMedia\",\n",
    "      \"prec\",\n",
    "      \"tmax\",\n",
    "      \"tmin\",\n",
    "      \"indicativo\",\n",
    "      \"tmed\",\n",
    "      \"presMin\",\n",
    "      \"nombre\",\n",
    "      \"hrMax\",\n",
    "      \"provincia\",\n",
    "    ],\n",
    "    \"exact_match\":False\n",
    "  },\n",
    "  \"meta\": {\n",
    "    \"profiler_details\": {\n",
    "      \"success_ratio\": 1.0\n",
    "    }\n",
    "  }\n",
    "})\n",
    "suite.add_expectation(expectation_configuration=expectation_configuration)"
   ]
  },
  {
   "cell_type": "markdown",
   "id": "7bf6b494",
   "metadata": {},
   "source": [
    "### Column Expectation(s)"
   ]
  },
  {
   "cell_type": "markdown",
   "id": "c9d4d8b1",
   "metadata": {},
   "source": [
    "#### `fecha`"
   ]
  },
  {
   "cell_type": "code",
   "execution_count": 4,
   "id": "eac39202",
   "metadata": {},
   "outputs": [
    {
     "data": {
      "text/plain": [
       "{\"expectation_type\": \"expect_column_values_to_not_be_null\", \"kwargs\": {\"column\": \"fecha\"}, \"meta\": {\"profiler_details\": {\"metric_configuration\": {\"domain_kwargs\": {\"column\": \"fecha\"}, \"metric_name\": \"column_values.nonnull.unexpected_count\", \"metric_value_kwargs\": null}, \"num_batches\": 1}}}"
      ]
     },
     "execution_count": 4,
     "metadata": {},
     "output_type": "execute_result"
    }
   ],
   "source": [
    "\n",
    "expectation_configuration = ExpectationConfiguration(**{\n",
    "  \"expectation_type\": \"expect_column_values_to_not_be_null\",\n",
    "  \"kwargs\": {\n",
    "    \"column\": \"fecha\"\n",
    "  },\n",
    "  \"meta\": {\n",
    "    \"profiler_details\": {\n",
    "      \"metric_configuration\": {\n",
    "        \"domain_kwargs\": {\n",
    "          \"column\": \"fecha\"\n",
    "        },\n",
    "        \"metric_name\": \"column_values.nonnull.unexpected_count\",\n",
    "        \"metric_value_kwargs\": None\n",
    "      },\n",
    "      \"num_batches\": 1\n",
    "    }\n",
    "  }\n",
    "})\n",
    "suite.add_expectation(expectation_configuration=expectation_configuration)"
   ]
  },
  {
   "cell_type": "code",
   "execution_count": 5,
   "id": "9d6a7bd1",
   "metadata": {},
   "outputs": [
    {
     "data": {
      "text/plain": [
       "{\"expectation_type\": \"expect_column_values_to_match_regex\", \"kwargs\": {\"column\": \"fecha\", \"mostly\": 1.0, \"regex\": \"^[0-9]{4}-[0-9]{2}-[0-9]{2}$\"}, \"meta\": {\"profiler_details\": {\"evaluated_regexes\": {\"[A-Za-z0-9\\\\.,;:!?()\\\\\\\"'%\\\\-]+\": 1.0, \"^[0-9]{4}-[0-9]{2}-[0-9]{2}$\": 1.0}, \"success_ratio\": 1.0}}}"
      ]
     },
     "execution_count": 5,
     "metadata": {},
     "output_type": "execute_result"
    }
   ],
   "source": [
    "\n",
    "expectation_configuration = ExpectationConfiguration(**{\n",
    "  \"expectation_type\": \"expect_column_values_to_match_regex\",\n",
    "  \"kwargs\": {\n",
    "    \"column\": \"fecha\",\n",
    "    \"mostly\": 1.0,\n",
    "    \"regex\":\"^[0-9]{4}-[0-9]{2}-[0-9]{2}$\"\n",
    "  },\n",
    "    \"meta\": {\n",
    "    \"profiler_details\": {\n",
    "      \"evaluated_regexes\": {\n",
    "        \"[A-Za-z0-9\\\\.,;:!?()\\\\\\\"'%\\\\-]+\": 1.0,\n",
    "        \"^[0-9]{4}-[0-9]{2}-[0-9]{2}$\": 1.0,\n",
    "      },\n",
    "      \"success_ratio\": 1.0\n",
    "    }\n",
    "  }\n",
    "})\n",
    "suite.add_expectation(expectation_configuration=expectation_configuration)"
   ]
  },
  {
   "cell_type": "markdown",
   "id": "a9c6b194",
   "metadata": {},
   "source": [
    "#### `indicativo`"
   ]
  },
  {
   "cell_type": "code",
   "execution_count": 6,
   "id": "5b103062",
   "metadata": {},
   "outputs": [
    {
     "data": {
      "text/plain": [
       "{\"expectation_type\": \"expect_column_values_to_not_be_null\", \"kwargs\": {\"column\": \"indicativo\"}, \"meta\": {\"profiler_details\": {\"metric_configuration\": {\"domain_kwargs\": {\"column\": \"indicativo\"}, \"metric_name\": \"column_values.nonnull.unexpected_count\", \"metric_value_kwargs\": null}, \"num_batches\": 1}}}"
      ]
     },
     "execution_count": 6,
     "metadata": {},
     "output_type": "execute_result"
    }
   ],
   "source": [
    "\n",
    "expectation_configuration = ExpectationConfiguration(**{\n",
    "  \"expectation_type\": \"expect_column_values_to_not_be_null\",\n",
    "  \"kwargs\": {\n",
    "    \"column\": \"indicativo\"\n",
    "  },\n",
    "  \"meta\": {\n",
    "    \"profiler_details\": {\n",
    "      \"metric_configuration\": {\n",
    "        \"domain_kwargs\": {\n",
    "          \"column\": \"indicativo\"\n",
    "        },\n",
    "        \"metric_name\": \"column_values.nonnull.unexpected_count\",\n",
    "        \"metric_value_kwargs\": None\n",
    "      },\n",
    "      \"num_batches\": 1\n",
    "    }\n",
    "  }\n",
    "})\n",
    "suite.add_expectation(expectation_configuration=expectation_configuration)"
   ]
  },
  {
   "cell_type": "code",
   "execution_count": 7,
   "id": "26249009",
   "metadata": {},
   "outputs": [
    {
     "data": {
      "text/plain": [
       "{\"expectation_type\": \"expect_column_values_to_be_of_type\", \"kwargs\": {\"column\": \"indicativo\", \"type_\": \"NUMBER\"}, \"meta\": {\"success_ratio\": 1.0}}"
      ]
     },
     "execution_count": 7,
     "metadata": {},
     "output_type": "execute_result"
    }
   ],
   "source": [
    "\n",
    "expectation_configuration = ExpectationConfiguration(**{\n",
    "  \"expectation_type\": \"expect_column_values_to_be_of_type\",\n",
    "  \"kwargs\": {\n",
    "    \"column\": \"indicativo\",\n",
    "    \"type_\":\"NUMBER\",\n",
    "  },\n",
    "  \"meta\": {\n",
    "      \"success_ratio\": 1.0\n",
    "  }\n",
    "})\n",
    "suite.add_expectation(expectation_configuration=expectation_configuration)"
   ]
  },
  {
   "cell_type": "code",
   "execution_count": 8,
   "id": "540bdf64",
   "metadata": {},
   "outputs": [
    {
     "data": {
      "text/plain": [
       "{\"expectation_type\": \"expect_column_unique_value_count_to_be_between\", \"kwargs\": {\"column\": \"indicativo\", \"max_value\": 1, \"min_value\": 1, \"strict_max\": false, \"strict_min\": false}, \"meta\": {\"profiler_details\": {\"metric_configuration\": {\"domain_kwargs\": {\"column\": \"indicativo\"}, \"metric_name\": \"column.distinct_values.count\", \"metric_value_kwargs\": null}, \"num_batches\": 1}}}"
      ]
     },
     "execution_count": 8,
     "metadata": {},
     "output_type": "execute_result"
    }
   ],
   "source": [
    "\n",
    "expectation_configuration = ExpectationConfiguration(**{\n",
    "  \"expectation_type\": \"expect_column_unique_value_count_to_be_between\",\n",
    "  \"kwargs\": {\n",
    "    \"column\": \"indicativo\",\n",
    "    \"max_value\": 1,\n",
    "    \"min_value\": 1,\n",
    "    \"strict_max\": False,\n",
    "    \"strict_min\": False\n",
    "  },\n",
    "  \"meta\": {\n",
    "    \"profiler_details\": {\n",
    "      \"metric_configuration\": {\n",
    "        \"domain_kwargs\": {\n",
    "          \"column\": \"indicativo\"\n",
    "        },\n",
    "        \"metric_name\": \"column.distinct_values.count\",\n",
    "        \"metric_value_kwargs\": None\n",
    "      },\n",
    "      \"num_batches\": 1\n",
    "    }\n",
    "  }\n",
    "})\n",
    "suite.add_expectation(expectation_configuration=expectation_configuration)"
   ]
  },
  {
   "cell_type": "markdown",
   "id": "cf6402f7",
   "metadata": {},
   "source": [
    "#### `nombre`"
   ]
  },
  {
   "cell_type": "code",
   "execution_count": 9,
   "id": "3198f3ba",
   "metadata": {},
   "outputs": [
    {
     "data": {
      "text/plain": [
       "{\"expectation_type\": \"expect_column_values_to_not_be_null\", \"kwargs\": {\"column\": \"nombre\"}, \"meta\": {\"profiler_details\": {\"metric_configuration\": {\"domain_kwargs\": {\"column\": \"nombre\"}, \"metric_name\": \"column_values.nonnull.unexpected_count\", \"metric_value_kwargs\": null}, \"num_batches\": 1}}}"
      ]
     },
     "execution_count": 9,
     "metadata": {},
     "output_type": "execute_result"
    }
   ],
   "source": [
    "\n",
    "expectation_configuration = ExpectationConfiguration(**{\n",
    "  \"expectation_type\": \"expect_column_values_to_not_be_null\",\n",
    "  \"kwargs\": {\n",
    "    \"column\": \"nombre\"\n",
    "  },\n",
    "  \"meta\": {\n",
    "    \"profiler_details\": {\n",
    "      \"metric_configuration\": {\n",
    "        \"domain_kwargs\": {\n",
    "          \"column\": \"nombre\"\n",
    "        },\n",
    "        \"metric_name\": \"column_values.nonnull.unexpected_count\",\n",
    "        \"metric_value_kwargs\": None\n",
    "      },\n",
    "      \"num_batches\": 1\n",
    "    }\n",
    "  }\n",
    "})\n",
    "suite.add_expectation(expectation_configuration=expectation_configuration)"
   ]
  },
  {
   "cell_type": "code",
   "execution_count": 10,
   "id": "87e9971d",
   "metadata": {},
   "outputs": [
    {
     "data": {
      "text/plain": [
       "{\"expectation_type\": \"expect_column_values_to_match_regex\", \"kwargs\": {\"column\": \"nombre\", \"mostly\": 1.0, \"regex\": \"[A-Za-z0-9\\\\.,;:!?()\\\\\\\"'%\\\\-]+\"}, \"meta\": {\"profiler_details\": {\"evaluated_regexes\": {\"[A-Za-z0-9\\\\.,;:!?()\\\\\\\"'%\\\\-]+\": 1.0}, \"success_ratio\": 1.0}}}"
      ]
     },
     "execution_count": 10,
     "metadata": {},
     "output_type": "execute_result"
    }
   ],
   "source": [
    "\n",
    "expectation_configuration = ExpectationConfiguration(**{\n",
    "  \"expectation_type\": \"expect_column_values_to_match_regex\",\n",
    "  \"kwargs\": {\n",
    "    \"column\": \"nombre\",\n",
    "    \"mostly\": 1.0,\n",
    "    \"regex\": \"[A-Za-z0-9\\\\.,;:!?()\\\\\\\"'%\\\\-]+\"\n",
    "  },\n",
    "  \"meta\": {\n",
    "    \"profiler_details\": {\n",
    "      \"evaluated_regexes\": {\n",
    "        \"[A-Za-z0-9\\\\.,;:!?()\\\\\\\"'%\\\\-]+\": 1.0\n",
    "      },\n",
    "      \"success_ratio\": 1.0\n",
    "    }\n",
    "  }\n",
    "})\n",
    "suite.add_expectation(expectation_configuration=expectation_configuration)"
   ]
  },
  {
   "cell_type": "code",
   "execution_count": 11,
   "id": "d81a3e21",
   "metadata": {},
   "outputs": [
    {
     "data": {
      "text/plain": [
       "{\"expectation_type\": \"expect_column_unique_value_count_to_be_between\", \"kwargs\": {\"column\": \"nombre\", \"max_value\": 1, \"min_value\": 1, \"strict_max\": false, \"strict_min\": false}, \"meta\": {\"profiler_details\": {\"metric_configuration\": {\"domain_kwargs\": {\"column\": \"nombre\"}, \"metric_name\": \"column.distinct_values.count\", \"metric_value_kwargs\": null}, \"num_batches\": 1}}}"
      ]
     },
     "execution_count": 11,
     "metadata": {},
     "output_type": "execute_result"
    }
   ],
   "source": [
    "\n",
    "expectation_configuration = ExpectationConfiguration(**{\n",
    "  \"expectation_type\": \"expect_column_unique_value_count_to_be_between\",\n",
    "  \"kwargs\": {\n",
    "    \"column\": \"nombre\",\n",
    "    \"max_value\": 1,\n",
    "    \"min_value\": 1,\n",
    "    \"strict_max\": False,\n",
    "    \"strict_min\": False\n",
    "  },\n",
    "  \"meta\": {\n",
    "    \"profiler_details\": {\n",
    "      \"metric_configuration\": {\n",
    "        \"domain_kwargs\": {\n",
    "          \"column\": \"nombre\"\n",
    "        },\n",
    "        \"metric_name\": \"column.distinct_values.count\",\n",
    "        \"metric_value_kwargs\": None\n",
    "      },\n",
    "      \"num_batches\": 1\n",
    "    }\n",
    "  }\n",
    "})\n",
    "suite.add_expectation(expectation_configuration=expectation_configuration)"
   ]
  },
  {
   "cell_type": "markdown",
   "id": "0674563c",
   "metadata": {},
   "source": [
    "#### `prec`"
   ]
  },
  {
   "cell_type": "code",
   "execution_count": 12,
   "id": "8674f906",
   "metadata": {},
   "outputs": [
    {
     "data": {
      "text/plain": [
       "{\"expectation_type\": \"expect_column_values_to_match_regex\", \"kwargs\": {\"column\": \"prec\", \"mostly\": 1.0, \"regex\": \"[A-Za-z0-9.,]+\"}, \"meta\": {\"profiler_details\": {\"evaluated_regexes\": {\"[IpAcum0-9.,]+\": 1}, \"success_ratio\": 1.0}}}"
      ]
     },
     "execution_count": 12,
     "metadata": {},
     "output_type": "execute_result"
    }
   ],
   "source": [
    "\n",
    "expectation_configuration = ExpectationConfiguration(**{\n",
    "  \"expectation_type\": \"expect_column_values_to_match_regex\",\n",
    "  \"kwargs\": {\n",
    "    \"column\": \"prec\",\n",
    "    \"mostly\": 1.0,\n",
    "    \"regex\": \"[A-Za-z0-9.,]+\"\n",
    "  },\n",
    "  \"meta\": {\n",
    "    \"profiler_details\": {\n",
    "      \"evaluated_regexes\": {\n",
    "        \"[IpAcum0-9.,]+\": 1,\n",
    "      },\n",
    "      \"success_ratio\": 1.0\n",
    "    }\n",
    "  }\n",
    "})\n",
    "suite.add_expectation(expectation_configuration=expectation_configuration)"
   ]
  },
  {
   "cell_type": "markdown",
   "id": "b4f2247e",
   "metadata": {},
   "source": [
    "#### `hrMedia`"
   ]
  },
  {
   "cell_type": "code",
   "execution_count": 13,
   "id": "93dd885d",
   "metadata": {},
   "outputs": [
    {
     "data": {
      "text/plain": [
       "{\"expectation_type\": \"expect_column_values_to_be_between\", \"kwargs\": {\"column\": \"hrMedia\", \"max_value\": 100, \"min_value\": 0, \"mostly\": 1.0, \"strict_max\": false, \"strict_min\": false}, \"meta\": {\"profiler_details\": {\"column_max_values_range_estimator\": {\"metric_configuration\": {\"domain_kwargs\": {\"column\": \"hrMedia\"}, \"metric_name\": \"column.max\", \"metric_value_kwargs\": null}, \"num_batches\": 1}, \"column_min_values_range_estimator\": {\"metric_configuration\": {\"domain_kwargs\": {\"column\": \"hrMedia\"}, \"metric_name\": \"column.min\", \"metric_value_kwargs\": null}, \"num_batches\": 1}}}}"
      ]
     },
     "execution_count": 13,
     "metadata": {},
     "output_type": "execute_result"
    }
   ],
   "source": [
    "expectation_configuration = ExpectationConfiguration(**{\n",
    "  \"expectation_type\": \"expect_column_values_to_be_of_type\",\n",
    "  \"kwargs\": {\n",
    "    \"column\": \"hrMedia\",\n",
    "    \"type_\":\"FLOAT\",\n",
    "  },\n",
    "  \"meta\": {\n",
    "      \"success_ratio\": 1.0\n",
    "  }\n",
    "})\n",
    "suite.add_expectation(expectation_configuration=expectation_configuration)\n",
    "\n",
    "\n",
    "expectation_configuration = ExpectationConfiguration(**{\n",
    "  \"expectation_type\": \"expect_column_values_to_be_between\",\n",
    "  \"kwargs\": {\n",
    "    \"column\": \"hrMedia\",\n",
    "    \"max_value\": 100,\n",
    "    \"min_value\": 0,\n",
    "    \"mostly\": 1.0,\n",
    "    \"strict_max\": False,\n",
    "    \"strict_min\": False\n",
    "  },\n",
    "  \"meta\": {\n",
    "    \"profiler_details\": {\n",
    "      \"column_max_values_range_estimator\": {\n",
    "        \"metric_configuration\": {\n",
    "          \"domain_kwargs\": {\n",
    "            \"column\": \"hrMedia\"\n",
    "          },\n",
    "          \"metric_name\": \"column.max\",\n",
    "          \"metric_value_kwargs\": None\n",
    "        },\n",
    "        \"num_batches\": 1\n",
    "      },\n",
    "      \"column_min_values_range_estimator\": {\n",
    "        \"metric_configuration\": {\n",
    "          \"domain_kwargs\": {\n",
    "            \"column\": \"hrMedia\"\n",
    "          },\n",
    "          \"metric_name\": \"column.min\",\n",
    "          \"metric_value_kwargs\": None\n",
    "        },\n",
    "        \"num_batches\": 1\n",
    "      }\n",
    "    }\n",
    "  }\n",
    "})\n",
    "suite.add_expectation(expectation_configuration=expectation_configuration)"
   ]
  },
  {
   "cell_type": "markdown",
   "id": "0f426205",
   "metadata": {},
   "source": [
    "#### `hrMax`"
   ]
  },
  {
   "cell_type": "code",
   "execution_count": 14,
   "id": "17117edf",
   "metadata": {},
   "outputs": [
    {
     "data": {
      "text/plain": [
       "{\"expectation_type\": \"expect_column_values_to_be_between\", \"kwargs\": {\"column\": \"hrMax\", \"max_value\": 100, \"min_value\": 0, \"mostly\": 1.0, \"strict_max\": false, \"strict_min\": false}, \"meta\": {\"profiler_details\": {\"column_max_values_range_estimator\": {\"metric_configuration\": {\"domain_kwargs\": {\"column\": \"hrMax\"}, \"metric_name\": \"column.max\", \"metric_value_kwargs\": null}, \"num_batches\": 1}, \"column_min_values_range_estimator\": {\"metric_configuration\": {\"domain_kwargs\": {\"column\": \"hrMax\"}, \"metric_name\": \"column.min\", \"metric_value_kwargs\": null}, \"num_batches\": 1}}}}"
      ]
     },
     "execution_count": 14,
     "metadata": {},
     "output_type": "execute_result"
    }
   ],
   "source": [
    "expectation_configuration = ExpectationConfiguration(**{\n",
    "  \"expectation_type\": \"expect_column_values_to_be_of_type\",\n",
    "  \"kwargs\": {\n",
    "    \"column\": \"hrMax\",\n",
    "    \"type_\":\"FLOAT\",\n",
    "  },\n",
    "  \"meta\": {\n",
    "      \"success_ratio\": 1.0\n",
    "  }\n",
    "})\n",
    "suite.add_expectation(expectation_configuration=expectation_configuration)\n",
    "\n",
    "\n",
    "expectation_configuration = ExpectationConfiguration(**{\n",
    "  \"expectation_type\": \"expect_column_values_to_be_between\",\n",
    "  \"kwargs\": {\n",
    "    \"column\": \"hrMax\",\n",
    "    \"max_value\": 100,\n",
    "    \"min_value\": 0,\n",
    "    \"mostly\": 1.0,\n",
    "    \"strict_max\": False,\n",
    "    \"strict_min\": False\n",
    "  },\n",
    "  \"meta\": {\n",
    "    \"profiler_details\": {\n",
    "      \"column_max_values_range_estimator\": {\n",
    "        \"metric_configuration\": {\n",
    "          \"domain_kwargs\": {\n",
    "            \"column\": \"hrMax\"\n",
    "          },\n",
    "          \"metric_name\": \"column.max\",\n",
    "          \"metric_value_kwargs\": None\n",
    "        },\n",
    "        \"num_batches\": 1\n",
    "      },\n",
    "      \"column_min_values_range_estimator\": {\n",
    "        \"metric_configuration\": {\n",
    "          \"domain_kwargs\": {\n",
    "            \"column\": \"hrMax\"\n",
    "          },\n",
    "          \"metric_name\": \"column.min\",\n",
    "          \"metric_value_kwargs\": None\n",
    "        },\n",
    "        \"num_batches\": 1\n",
    "      }\n",
    "    }\n",
    "  }\n",
    "})\n",
    "suite.add_expectation(expectation_configuration=expectation_configuration)"
   ]
  },
  {
   "cell_type": "markdown",
   "id": "11f20f44",
   "metadata": {},
   "source": [
    "#### `hrMin`"
   ]
  },
  {
   "cell_type": "code",
   "execution_count": 15,
   "id": "078dc74f",
   "metadata": {},
   "outputs": [
    {
     "data": {
      "text/plain": [
       "{\"expectation_type\": \"expect_column_values_to_be_between\", \"kwargs\": {\"column\": \"hrMin\", \"max_value\": 100, \"min_value\": 0, \"mostly\": 1.0, \"strict_max\": false, \"strict_min\": false}, \"meta\": {\"profiler_details\": {\"column_max_values_range_estimator\": {\"metric_configuration\": {\"domain_kwargs\": {\"column\": \"hrMin\"}, \"metric_name\": \"column.max\", \"metric_value_kwargs\": null}, \"num_batches\": 1}, \"column_min_values_range_estimator\": {\"metric_configuration\": {\"domain_kwargs\": {\"column\": \"hrMin\"}, \"metric_name\": \"column.min\", \"metric_value_kwargs\": null}, \"num_batches\": 1}}}}"
      ]
     },
     "execution_count": 15,
     "metadata": {},
     "output_type": "execute_result"
    }
   ],
   "source": [
    "expectation_configuration = ExpectationConfiguration(**{\n",
    "  \"expectation_type\": \"expect_column_values_to_be_of_type\",\n",
    "  \"kwargs\": {\n",
    "    \"column\": \"hrMin\",\n",
    "    \"type_\":\"FLOAT\",\n",
    "  },\n",
    "  \"meta\": {\n",
    "      \"success_ratio\": 1.0\n",
    "  }\n",
    "})\n",
    "suite.add_expectation(expectation_configuration=expectation_configuration)\n",
    "\n",
    "\n",
    "expectation_configuration = ExpectationConfiguration(**{\n",
    "  \"expectation_type\": \"expect_column_values_to_be_between\",\n",
    "  \"kwargs\": {\n",
    "    \"column\": \"hrMin\",\n",
    "    \"max_value\": 100,\n",
    "    \"min_value\": 0,\n",
    "    \"mostly\": 1.0,\n",
    "    \"strict_max\": False,\n",
    "    \"strict_min\": False\n",
    "  },\n",
    "  \"meta\": {\n",
    "    \"profiler_details\": {\n",
    "      \"column_max_values_range_estimator\": {\n",
    "        \"metric_configuration\": {\n",
    "          \"domain_kwargs\": {\n",
    "            \"column\": \"hrMin\"\n",
    "          },\n",
    "          \"metric_name\": \"column.max\",\n",
    "          \"metric_value_kwargs\": None\n",
    "        },\n",
    "        \"num_batches\": 1\n",
    "      },\n",
    "      \"column_min_values_range_estimator\": {\n",
    "        \"metric_configuration\": {\n",
    "          \"domain_kwargs\": {\n",
    "            \"column\": \"hrMin\"\n",
    "          },\n",
    "          \"metric_name\": \"column.min\",\n",
    "          \"metric_value_kwargs\": None\n",
    "        },\n",
    "        \"num_batches\": 1\n",
    "      }\n",
    "    }\n",
    "  }\n",
    "})\n",
    "suite.add_expectation(expectation_configuration=expectation_configuration)"
   ]
  },
  {
   "cell_type": "markdown",
   "id": "48017776",
   "metadata": {},
   "source": [
    "#### `tmed`"
   ]
  },
  {
   "cell_type": "code",
   "execution_count": 16,
   "id": "18e25b09",
   "metadata": {},
   "outputs": [
    {
     "data": {
      "text/plain": [
       "{\"expectation_type\": \"expect_column_values_to_be_between\", \"kwargs\": {\"column\": \"tmed\", \"max_value\": 100, \"min_value\": -50, \"mostly\": 1.0, \"strict_max\": false, \"strict_min\": false}, \"meta\": {\"profiler_details\": {\"column_max_values_range_estimator\": {\"metric_configuration\": {\"domain_kwargs\": {\"column\": \"tmed\"}, \"metric_name\": \"column.max\", \"metric_value_kwargs\": null}, \"num_batches\": 1}, \"column_min_values_range_estimator\": {\"metric_configuration\": {\"domain_kwargs\": {\"column\": \"tmed\"}, \"metric_name\": \"column.min\", \"metric_value_kwargs\": null}, \"num_batches\": 1}}}}"
      ]
     },
     "execution_count": 16,
     "metadata": {},
     "output_type": "execute_result"
    }
   ],
   "source": [
    "expectation_configuration = ExpectationConfiguration(**{\n",
    "  \"expectation_type\": \"expect_column_values_to_be_of_type\",\n",
    "  \"kwargs\": {\n",
    "    \"column\": \"tmed\",\n",
    "    \"type_\":\"FLOAT\",\n",
    "  },\n",
    "  \"meta\": {\n",
    "      \"success_ratio\": 1.0\n",
    "  }\n",
    "})\n",
    "suite.add_expectation(expectation_configuration=expectation_configuration)\n",
    "\n",
    "\n",
    "expectation_configuration = ExpectationConfiguration(**{\n",
    "  \"expectation_type\": \"expect_column_values_to_be_between\",\n",
    "  \"kwargs\": {\n",
    "    \"column\": \"tmed\",\n",
    "    \"max_value\": 100,\n",
    "    \"min_value\": -50,\n",
    "    \"mostly\": 1.0,\n",
    "    \"strict_max\": False,\n",
    "    \"strict_min\": False\n",
    "  },\n",
    "  \"meta\": {\n",
    "    \"profiler_details\": {\n",
    "      \"column_max_values_range_estimator\": {\n",
    "        \"metric_configuration\": {\n",
    "          \"domain_kwargs\": {\n",
    "            \"column\": \"tmed\"\n",
    "          },\n",
    "          \"metric_name\": \"column.max\",\n",
    "          \"metric_value_kwargs\": None\n",
    "        },\n",
    "        \"num_batches\": 1\n",
    "      },\n",
    "      \"column_min_values_range_estimator\": {\n",
    "        \"metric_configuration\": {\n",
    "          \"domain_kwargs\": {\n",
    "            \"column\": \"tmed\"\n",
    "          },\n",
    "          \"metric_name\": \"column.min\",\n",
    "          \"metric_value_kwargs\": None\n",
    "        },\n",
    "        \"num_batches\": 1\n",
    "      }\n",
    "    }\n",
    "  }\n",
    "})\n",
    "suite.add_expectation(expectation_configuration=expectation_configuration)"
   ]
  },
  {
   "cell_type": "code",
   "execution_count": null,
   "id": "528d1dbf-46a5-488e-a394-b0cc56b6ed6b",
   "metadata": {},
   "outputs": [],
   "source": []
  },
  {
   "cell_type": "markdown",
   "id": "26f8b495",
   "metadata": {},
   "source": [
    "#### `tmin`"
   ]
  },
  {
   "cell_type": "code",
   "execution_count": 17,
   "id": "80ba176f",
   "metadata": {},
   "outputs": [
    {
     "data": {
      "text/plain": [
       "{\"expectation_type\": \"expect_column_values_to_be_between\", \"kwargs\": {\"column\": \"tmin\", \"max_value\": 100, \"min_value\": -50, \"mostly\": 1.0, \"strict_max\": false, \"strict_min\": false}, \"meta\": {\"profiler_details\": {\"column_max_values_range_estimator\": {\"metric_configuration\": {\"domain_kwargs\": {\"column\": \"tmin\"}, \"metric_name\": \"column.max\", \"metric_value_kwargs\": null}, \"num_batches\": 1}, \"column_min_values_range_estimator\": {\"metric_configuration\": {\"domain_kwargs\": {\"column\": \"tmin\"}, \"metric_name\": \"column.min\", \"metric_value_kwargs\": null}, \"num_batches\": 1}}}}"
      ]
     },
     "execution_count": 17,
     "metadata": {},
     "output_type": "execute_result"
    }
   ],
   "source": [
    "expectation_configuration = ExpectationConfiguration(**{\n",
    "  \"expectation_type\": \"expect_column_values_to_be_of_type\",\n",
    "  \"kwargs\": {\n",
    "    \"column\": \"tmin\",\n",
    "    \"type_\":\"FLOAT\",\n",
    "  },\n",
    "  \"meta\": {\n",
    "      \"success_ratio\": 1.0\n",
    "  }\n",
    "})\n",
    "suite.add_expectation(expectation_configuration=expectation_configuration)\n",
    "\n",
    "\n",
    "expectation_configuration = ExpectationConfiguration(**{\n",
    "  \"expectation_type\": \"expect_column_values_to_be_between\",\n",
    "  \"kwargs\": {\n",
    "    \"column\": \"tmin\",\n",
    "    \"max_value\": 100,\n",
    "    \"min_value\": -50,\n",
    "    \"mostly\": 1.0,\n",
    "    \"strict_max\": False,\n",
    "    \"strict_min\": False\n",
    "  },\n",
    "  \"meta\": {\n",
    "    \"profiler_details\": {\n",
    "      \"column_max_values_range_estimator\": {\n",
    "        \"metric_configuration\": {\n",
    "          \"domain_kwargs\": {\n",
    "            \"column\": \"tmin\"\n",
    "          },\n",
    "          \"metric_name\": \"column.max\",\n",
    "          \"metric_value_kwargs\": None\n",
    "        },\n",
    "        \"num_batches\": 1\n",
    "      },\n",
    "      \"column_min_values_range_estimator\": {\n",
    "        \"metric_configuration\": {\n",
    "          \"domain_kwargs\": {\n",
    "            \"column\": \"tmin\"\n",
    "          },\n",
    "          \"metric_name\": \"column.min\",\n",
    "          \"metric_value_kwargs\": None\n",
    "        },\n",
    "        \"num_batches\": 1\n",
    "      }\n",
    "    }\n",
    "  }\n",
    "})\n",
    "suite.add_expectation(expectation_configuration=expectation_configuration)"
   ]
  },
  {
   "cell_type": "markdown",
   "id": "c8fbfdc0",
   "metadata": {},
   "source": [
    "#### `tmax`"
   ]
  },
  {
   "cell_type": "code",
   "execution_count": 18,
   "id": "d6155fb0",
   "metadata": {},
   "outputs": [
    {
     "data": {
      "text/plain": [
       "{\"expectation_type\": \"expect_column_values_to_be_between\", \"kwargs\": {\"column\": \"tmax\", \"max_value\": 100, \"min_value\": -50, \"mostly\": 1.0, \"strict_max\": false, \"strict_min\": false}, \"meta\": {\"profiler_details\": {\"column_max_values_range_estimator\": {\"metric_configuration\": {\"domain_kwargs\": {\"column\": \"tmax\"}, \"metric_name\": \"column.max\", \"metric_value_kwargs\": null}, \"num_batches\": 1}, \"column_min_values_range_estimator\": {\"metric_configuration\": {\"domain_kwargs\": {\"column\": \"tmax\"}, \"metric_name\": \"column.min\", \"metric_value_kwargs\": null}, \"num_batches\": 1}}}}"
      ]
     },
     "execution_count": 18,
     "metadata": {},
     "output_type": "execute_result"
    }
   ],
   "source": [
    "expectation_configuration = ExpectationConfiguration(**{\n",
    "  \"expectation_type\": \"expect_column_values_to_be_of_type\",\n",
    "  \"kwargs\": {\n",
    "    \"column\": \"tmax\",\n",
    "    \"type_\":\"FLOAT\",\n",
    "  },\n",
    "  \"meta\": {\n",
    "      \"success_ratio\": 1.0\n",
    "  }\n",
    "})\n",
    "suite.add_expectation(expectation_configuration=expectation_configuration)\n",
    "\n",
    "\n",
    "expectation_configuration = ExpectationConfiguration(**{\n",
    "  \"expectation_type\": \"expect_column_values_to_be_between\",\n",
    "  \"kwargs\": {\n",
    "    \"column\": \"tmax\",\n",
    "    \"max_value\": 100,\n",
    "    \"min_value\": -50,\n",
    "    \"mostly\": 1.0,\n",
    "    \"strict_max\": False,\n",
    "    \"strict_min\": False\n",
    "  },\n",
    "  \"meta\": {\n",
    "    \"profiler_details\": {\n",
    "      \"column_max_values_range_estimator\": {\n",
    "        \"metric_configuration\": {\n",
    "          \"domain_kwargs\": {\n",
    "            \"column\": \"tmax\"\n",
    "          },\n",
    "          \"metric_name\": \"column.max\",\n",
    "          \"metric_value_kwargs\": None\n",
    "        },\n",
    "        \"num_batches\": 1\n",
    "      },\n",
    "      \"column_min_values_range_estimator\": {\n",
    "        \"metric_configuration\": {\n",
    "          \"domain_kwargs\": {\n",
    "            \"column\": \"tmax\"\n",
    "          },\n",
    "          \"metric_name\": \"column.min\",\n",
    "          \"metric_value_kwargs\": None\n",
    "        },\n",
    "        \"num_batches\": 1\n",
    "      }\n",
    "    }\n",
    "  }\n",
    "})\n",
    "suite.add_expectation(expectation_configuration=expectation_configuration)"
   ]
  },
  {
   "cell_type": "markdown",
   "id": "d58ba9c4",
   "metadata": {},
   "source": [
    "#### `velmedia`"
   ]
  },
  {
   "cell_type": "code",
   "execution_count": 19,
   "id": "08b87edc",
   "metadata": {},
   "outputs": [
    {
     "data": {
      "text/plain": [
       "{\"expectation_type\": \"expect_column_values_to_be_between\", \"kwargs\": {\"column\": \"velmedia\", \"max_value\": 500, \"min_value\": 0, \"mostly\": 1.0, \"strict_max\": false, \"strict_min\": false}, \"meta\": {\"profiler_details\": {\"column_max_values_range_estimator\": {\"metric_configuration\": {\"domain_kwargs\": {\"column\": \"velmedia\"}, \"metric_name\": \"column.max\", \"metric_value_kwargs\": null}, \"num_batches\": 1}, \"column_min_values_range_estimator\": {\"metric_configuration\": {\"domain_kwargs\": {\"column\": \"velmedia\"}, \"metric_name\": \"column.min\", \"metric_value_kwargs\": null}, \"num_batches\": 1}}}}"
      ]
     },
     "execution_count": 19,
     "metadata": {},
     "output_type": "execute_result"
    }
   ],
   "source": [
    "expectation_configuration = ExpectationConfiguration(**{\n",
    "  \"expectation_type\": \"expect_column_values_to_be_of_type\",\n",
    "  \"kwargs\": {\n",
    "    \"column\": \"velmedia\",\n",
    "    \"type_\":\"FLOAT\",\n",
    "  },\n",
    "  \"meta\": {\n",
    "      \"success_ratio\": 1.0\n",
    "  }\n",
    "})\n",
    "suite.add_expectation(expectation_configuration=expectation_configuration)\n",
    "\n",
    "\n",
    "expectation_configuration = ExpectationConfiguration(**{\n",
    "  \"expectation_type\": \"expect_column_values_to_be_between\",\n",
    "  \"kwargs\": {\n",
    "    \"column\": \"velmedia\",\n",
    "    \"max_value\": 500,\n",
    "    \"min_value\": 0,\n",
    "    \"mostly\": 1.0,\n",
    "    \"strict_max\": False,\n",
    "    \"strict_min\": False\n",
    "  },\n",
    "  \"meta\": {\n",
    "    \"profiler_details\": {\n",
    "      \"column_max_values_range_estimator\": {\n",
    "        \"metric_configuration\": {\n",
    "          \"domain_kwargs\": {\n",
    "            \"column\": \"velmedia\"\n",
    "          },\n",
    "          \"metric_name\": \"column.max\",\n",
    "          \"metric_value_kwargs\": None\n",
    "        },\n",
    "        \"num_batches\": 1\n",
    "      },\n",
    "      \"column_min_values_range_estimator\": {\n",
    "        \"metric_configuration\": {\n",
    "          \"domain_kwargs\": {\n",
    "            \"column\": \"velmedia\"\n",
    "          },\n",
    "          \"metric_name\": \"column.min\",\n",
    "          \"metric_value_kwargs\": None\n",
    "        },\n",
    "        \"num_batches\": 1\n",
    "      }\n",
    "    }\n",
    "  }\n",
    "})\n",
    "suite.add_expectation(expectation_configuration=expectation_configuration)"
   ]
  },
  {
   "cell_type": "markdown",
   "id": "c634dce5",
   "metadata": {},
   "source": [
    "#### `sol`"
   ]
  },
  {
   "cell_type": "code",
   "execution_count": 20,
   "id": "9ca513ac",
   "metadata": {},
   "outputs": [
    {
     "data": {
      "text/plain": [
       "{\"expectation_type\": \"expect_column_values_to_be_between\", \"kwargs\": {\"column\": \"sol\", \"max_value\": 24, \"min_value\": 0, \"mostly\": 1.0, \"strict_max\": false, \"strict_min\": false}, \"meta\": {\"profiler_details\": {\"column_max_values_range_estimator\": {\"metric_configuration\": {\"domain_kwargs\": {\"column\": \"sol\"}, \"metric_name\": \"column.max\", \"metric_value_kwargs\": null}, \"num_batches\": 1}, \"column_min_values_range_estimator\": {\"metric_configuration\": {\"domain_kwargs\": {\"column\": \"sol\"}, \"metric_name\": \"column.min\", \"metric_value_kwargs\": null}, \"num_batches\": 1}}}}"
      ]
     },
     "execution_count": 20,
     "metadata": {},
     "output_type": "execute_result"
    }
   ],
   "source": [
    "expectation_configuration = ExpectationConfiguration(**{\n",
    "  \"expectation_type\": \"expect_column_values_to_be_of_type\",\n",
    "  \"kwargs\": {\n",
    "    \"column\": \"sol\",\n",
    "    \"type_\":\"FLOAT\",\n",
    "  },\n",
    "  \"meta\": {\n",
    "      \"success_ratio\": 1.0\n",
    "  }\n",
    "})\n",
    "suite.add_expectation(expectation_configuration=expectation_configuration)\n",
    "\n",
    "\n",
    "expectation_configuration = ExpectationConfiguration(**{\n",
    "  \"expectation_type\": \"expect_column_values_to_be_between\",\n",
    "  \"kwargs\": {\n",
    "    \"column\": \"sol\",\n",
    "    \"max_value\": 24,\n",
    "    \"min_value\": 0,\n",
    "    \"mostly\": 1.0,\n",
    "    \"strict_max\": False,\n",
    "    \"strict_min\": False\n",
    "  },\n",
    "  \"meta\": {\n",
    "    \"profiler_details\": {\n",
    "      \"column_max_values_range_estimator\": {\n",
    "        \"metric_configuration\": {\n",
    "          \"domain_kwargs\": {\n",
    "            \"column\": \"sol\"\n",
    "          },\n",
    "          \"metric_name\": \"column.max\",\n",
    "          \"metric_value_kwargs\": None\n",
    "        },\n",
    "        \"num_batches\": 1\n",
    "      },\n",
    "      \"column_min_values_range_estimator\": {\n",
    "        \"metric_configuration\": {\n",
    "          \"domain_kwargs\": {\n",
    "            \"column\": \"sol\"\n",
    "          },\n",
    "          \"metric_name\": \"column.min\",\n",
    "          \"metric_value_kwargs\": None\n",
    "        },\n",
    "        \"num_batches\": 1\n",
    "      }\n",
    "    }\n",
    "  }\n",
    "})\n",
    "suite.add_expectation(expectation_configuration=expectation_configuration)"
   ]
  },
  {
   "cell_type": "markdown",
   "id": "7546a976",
   "metadata": {},
   "source": [
    "#### `presMax`"
   ]
  },
  {
   "cell_type": "code",
   "execution_count": 21,
   "id": "c1522f6a",
   "metadata": {},
   "outputs": [
    {
     "data": {
      "text/plain": [
       "{\"expectation_type\": \"expect_column_values_to_be_between\", \"kwargs\": {\"column\": \"presMax\", \"max_value\": 5000, \"min_value\": 0, \"mostly\": 1.0, \"strict_max\": false, \"strict_min\": false}, \"meta\": {\"profiler_details\": {\"column_max_values_range_estimator\": {\"metric_configuration\": {\"domain_kwargs\": {\"column\": \"presMax\"}, \"metric_name\": \"column.max\", \"metric_value_kwargs\": null}, \"num_batches\": 1}, \"column_min_values_range_estimator\": {\"metric_configuration\": {\"domain_kwargs\": {\"column\": \"presMax\"}, \"metric_name\": \"column.min\", \"metric_value_kwargs\": null}, \"num_batches\": 1}}}}"
      ]
     },
     "execution_count": 21,
     "metadata": {},
     "output_type": "execute_result"
    }
   ],
   "source": [
    "expectation_configuration = ExpectationConfiguration(**{\n",
    "  \"expectation_type\": \"expect_column_values_to_be_of_type\",\n",
    "  \"kwargs\": {\n",
    "    \"column\": \"presMax\",\n",
    "    \"type_\":\"FLOAT\",\n",
    "  },\n",
    "  \"meta\": {\n",
    "      \"success_ratio\": 1.0\n",
    "  }\n",
    "})\n",
    "suite.add_expectation(expectation_configuration=expectation_configuration)\n",
    "\n",
    "\n",
    "expectation_configuration = ExpectationConfiguration(**{\n",
    "  \"expectation_type\": \"expect_column_values_to_be_between\",\n",
    "  \"kwargs\": {\n",
    "    \"column\": \"presMax\",\n",
    "    \"max_value\": 5000,\n",
    "    \"min_value\": 0,\n",
    "    \"mostly\": 1.0,\n",
    "    \"strict_max\": False,\n",
    "    \"strict_min\": False\n",
    "  },\n",
    "  \"meta\": {\n",
    "    \"profiler_details\": {\n",
    "      \"column_max_values_range_estimator\": {\n",
    "        \"metric_configuration\": {\n",
    "          \"domain_kwargs\": {\n",
    "            \"column\": \"presMax\"\n",
    "          },\n",
    "          \"metric_name\": \"column.max\",\n",
    "          \"metric_value_kwargs\": None\n",
    "        },\n",
    "        \"num_batches\": 1\n",
    "      },\n",
    "      \"column_min_values_range_estimator\": {\n",
    "        \"metric_configuration\": {\n",
    "          \"domain_kwargs\": {\n",
    "            \"column\": \"presMax\"\n",
    "          },\n",
    "          \"metric_name\": \"column.min\",\n",
    "          \"metric_value_kwargs\": None\n",
    "        },\n",
    "        \"num_batches\": 1\n",
    "      }\n",
    "    }\n",
    "  }\n",
    "})\n",
    "suite.add_expectation(expectation_configuration=expectation_configuration)"
   ]
  },
  {
   "cell_type": "markdown",
   "id": "e1db3a51",
   "metadata": {},
   "source": [
    "#### `presMin`"
   ]
  },
  {
   "cell_type": "code",
   "execution_count": 22,
   "id": "219fdf6e",
   "metadata": {},
   "outputs": [
    {
     "data": {
      "text/plain": [
       "{\"expectation_type\": \"expect_column_values_to_be_between\", \"kwargs\": {\"column\": \"presMin\", \"max_value\": 5000, \"min_value\": 0, \"mostly\": 1.0, \"strict_max\": false, \"strict_min\": false}, \"meta\": {\"profiler_details\": {\"column_max_values_range_estimator\": {\"metric_configuration\": {\"domain_kwargs\": {\"column\": \"presMin\"}, \"metric_name\": \"column.max\", \"metric_value_kwargs\": null}, \"num_batches\": 1}, \"column_min_values_range_estimator\": {\"metric_configuration\": {\"domain_kwargs\": {\"column\": \"presMin\"}, \"metric_name\": \"column.min\", \"metric_value_kwargs\": null}, \"num_batches\": 1}}}}"
      ]
     },
     "execution_count": 22,
     "metadata": {},
     "output_type": "execute_result"
    }
   ],
   "source": [
    "expectation_configuration = ExpectationConfiguration(**{\n",
    "  \"expectation_type\": \"expect_column_values_to_be_of_type\",\n",
    "  \"kwargs\": {\n",
    "    \"column\": \"presMin\",\n",
    "    \"type_\":\"FLOAT\",\n",
    "  },\n",
    "  \"meta\": {\n",
    "      \"success_ratio\": 1.0\n",
    "  }\n",
    "})\n",
    "suite.add_expectation(expectation_configuration=expectation_configuration)\n",
    "\n",
    "\n",
    "expectation_configuration = ExpectationConfiguration(**{\n",
    "  \"expectation_type\": \"expect_column_values_to_be_between\",\n",
    "  \"kwargs\": {\n",
    "    \"column\": \"presMin\",\n",
    "    \"max_value\": 5000,\n",
    "    \"min_value\": 0,\n",
    "    \"mostly\": 1.0,\n",
    "    \"strict_max\": False,\n",
    "    \"strict_min\": False\n",
    "  },\n",
    "  \"meta\": {\n",
    "    \"profiler_details\": {\n",
    "      \"column_max_values_range_estimator\": {\n",
    "        \"metric_configuration\": {\n",
    "          \"domain_kwargs\": {\n",
    "            \"column\": \"presMin\"\n",
    "          },\n",
    "          \"metric_name\": \"column.max\",\n",
    "          \"metric_value_kwargs\": None\n",
    "        },\n",
    "        \"num_batches\": 1\n",
    "      },\n",
    "      \"column_min_values_range_estimator\": {\n",
    "        \"metric_configuration\": {\n",
    "          \"domain_kwargs\": {\n",
    "            \"column\": \"presMin\"\n",
    "          },\n",
    "          \"metric_name\": \"column.min\",\n",
    "          \"metric_value_kwargs\": None\n",
    "        },\n",
    "        \"num_batches\": 1\n",
    "      }\n",
    "    }\n",
    "  }\n",
    "})\n",
    "suite.add_expectation(expectation_configuration=expectation_configuration)"
   ]
  },
  {
   "cell_type": "markdown",
   "id": "e3cdc182",
   "metadata": {},
   "source": [
    "## Review & Save Your Expectations\n",
    "\n",
    "Let's save the expectation suite as a JSON file in the `great_expectations/expectations` directory of your project.\n",
    "\n",
    "Let's now rebuild your Data Docs, which helps you communicate about your data with both machines and humans."
   ]
  },
  {
   "cell_type": "code",
   "execution_count": 23,
   "id": "17dd192f",
   "metadata": {},
   "outputs": [
    {
     "name": "stdout",
     "output_type": "stream",
     "text": [
      "{\n",
      "  \"expectation_suite_name\": \"project-gx-profile\",\n",
      "  \"ge_cloud_id\": null,\n",
      "  \"expectations\": [],\n",
      "  \"data_asset_type\": null,\n",
      "  \"meta\": {\n",
      "    \"citations\": [\n",
      "      {\n",
      "        \"batch_request\": {\n",
      "          \"data_asset_name\": \"output.csv\",\n",
      "          \"data_connector_name\": \"default_inferred_data_connector_name\",\n",
      "          \"datasource_name\": \"mlops-project-datasource\",\n",
      "          \"limit\": 1000\n",
      "        },\n",
      "        \"citation_date\": \"2024-10-10T11:36:46.932029Z\",\n",
      "        \"comment\": \"Created suite added via CLI\"\n",
      "      }\n",
      "    ],\n",
      "    \"great_expectations_version\": \"0.18.21\"\n",
      "  }\n",
      "}\n"
     ]
    }
   ],
   "source": [
    "print(context.get_expectation_suite(expectation_suite_name=expectation_suite_name))\n",
    "context.add_or_update_expectation_suite(expectation_suite=suite)\n",
    "\n",
    "suite_identifier = ExpectationSuiteIdentifier(expectation_suite_name=expectation_suite_name)\n",
    "context.build_data_docs(resource_identifiers=[suite_identifier])\n",
    "context.open_data_docs(resource_identifier=suite_identifier)"
   ]
  },
  {
   "cell_type": "code",
   "execution_count": null,
   "id": "01af2199-6643-4753-92ac-eca966a4089c",
   "metadata": {},
   "outputs": [],
   "source": []
  },
  {
   "cell_type": "code",
   "execution_count": null,
   "id": "eb139b22-17af-42e4-9203-ade5a4ac95f1",
   "metadata": {},
   "outputs": [],
   "source": []
  },
  {
   "cell_type": "code",
   "execution_count": null,
   "id": "7b57e57b-f242-4816-b807-68e56298cdc9",
   "metadata": {},
   "outputs": [],
   "source": []
  }
 ],
 "metadata": {
  "kernelspec": {
   "display_name": "Python 3 (ipykernel)",
   "language": "python",
   "name": "python3"
  },
  "language_info": {
   "codemirror_mode": {
    "name": "ipython",
    "version": 3
   },
   "file_extension": ".py",
   "mimetype": "text/x-python",
   "name": "python",
   "nbconvert_exporter": "python",
   "pygments_lexer": "ipython3",
   "version": "3.12.7"
  }
 },
 "nbformat": 4,
 "nbformat_minor": 5
}
